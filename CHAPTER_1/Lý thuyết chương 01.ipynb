{
 "cells": [
  {
   "cell_type": "markdown",
   "id": "800fa2",
   "metadata": {
    "collapsed": false
   },
   "source": [
    "#### **DEMO LÝ THUYẾT CHƯƠNG 1**\n",
    "\n",
    "**Giới thiệu về Hệ điều hành.**\n",
    "\n",
    "Chào mừng các bạn đến với một vài demo về tính năng của hệ điều hành. Tập tin Jupyter này có thể thực thi trực tiếp trên môi trường Bash \\(Linux\\). Nếu có bất kỳ thắc mắc hay phát hiện ra sai sót nào, xin vui lòng báo lại cho tôi qua email [trantrungtin@tdtu.edu.vn](mailto:trantrungtin@tdtu.edu.vn) hoặc liên hệ qua GitHub của tôi tại https://github.com/tranttin.\n",
    "\n",
    "Xin chân thành cảm ơn và chúc các bạn học tốt! \n",
    "\n",
    "Thầy Trần Trung Tín\n",
    "\n"
   ]
  },
  {
   "cell_type": "markdown",
   "id": "fec8a1",
   "metadata": {
    "collapsed": false
   },
   "source": [
    "- Kiểm tra nội dung thư mục đã đủ các tập tin common\\_threads.h, io.c, threads.c, ... \n",
    "- Sử dụng make để dịch hàng loạt ra các tập tin khả thực thi\n",
    "\n"
   ]
  },
  {
   "cell_type": "code",
   "execution_count": 0,
   "id": "ab1c7a",
   "metadata": {
    "collapsed": true
   },
   "outputs": [
   ],
   "source": [
    "ls\n",
    "make"
   ]
  },
  {
   "cell_type": "markdown",
   "id": "5f1906",
   "metadata": {
    "collapsed": false
   },
   "source": [
    "##### **Mô tả yêu cầu CPU của một tiến trình A**\n",
    "\n",
    "Khi thực thi đoạn mã ngay dưới đây,hệ thống bắt đầu chạy chương trình. Chương trình này liên tục kiểm tra thời gian cho đến khi một giây trôi qua. Khi một giây đã trôi qua, mã sẽ in chuỗi ký tự đầu vào do người dùng cung cấp \\(trong ví dụ này là chữ “A”\\) và tiếp tục chạy. Lưu ý rằng chương trình sẽ chạy mãi mãi; bằng cách nhấn “Ctrl\\-C” \\(trên các hệ thống dựa trên UNIX, thao tác này sẽ kết thúc chương trình đang chạy ở chế độ nền\\), hoặc nhấn Stop khi sử dụng Jupyter notebooks, chúng ta có thể dừng chương trình.\n",
    "\n"
   ]
  },
  {
   "cell_type": "code",
   "execution_count": 0,
   "id": "85f0e5",
   "metadata": {
    "collapsed": false
   },
   "outputs": [
   ],
   "source": [
    "./cpu \"A\""
   ]
  },
  {
   "cell_type": "markdown",
   "id": "59b310",
   "metadata": {
    "collapsed": false
   },
   "source": [
    "##### **Mô tả cấp phát CPU luân phiên cho nhiều tiến trình thực thi đồng thời**\n",
    "\n",
    "Chúng ta chạy bốn tiến trình cùng lúc bằng cách sử dụng ký hiệu &. Việc này sẽ chạy một tác vụ trong nền trong shell zsh, nghĩa là người dùng có thể ngay lập tức thực hiện lệnh tiếp theo, trong trường hợp này là chạy một chương trình khác.\n",
    "\n"
   ]
  },
  {
   "cell_type": "code",
   "execution_count": 0,
   "id": "b595ac",
   "metadata": {
    "collapsed": false,
    "scrolled": true
   },
   "outputs": [
   ],
   "source": [
    " ./cpu \"A\" & ./cpu \"B\" & ./cpu \"C\" & ./cpu \"D\" "
   ]
  },
  {
   "cell_type": "markdown",
   "id": "a292f8",
   "metadata": {
    "collapsed": false
   },
   "source": [
    "Lưu ý rằng khi nhấn Stop trên đoạn code, các tiến trình vẫn còn tồn tại. Nếu đoạn code được chạy thêm lần nữa, các tiến trình A, B, C, D lại được tạo ra. Các tiến trình có thể trùng tên do PID mới là đối tượng quản lý.\n",
    "\n"
   ]
  },
  {
   "cell_type": "markdown",
   "id": "b2be36",
   "metadata": {
    "collapsed": false
   },
   "source": [
    "##### **Mô tả cấp phát bộ nhớ cho 2 tiến trình**\n",
    "\n",
    "Địa chỉ luận lý có thể giống nhau \\(do không gian tách biệt\\), nhưng địa chỉ vật lý sẽ phải cách biệt bằng cách cách phát con trỏ quản lý ở các địa chỉ khác nhau.\n",
    "\n"
   ]
  },
  {
   "cell_type": "code",
   "execution_count": 0,
   "id": "85be38",
   "metadata": {
    "collapsed": false
   },
   "outputs": [
   ],
   "source": [
    "./mem 1024 & ./mem & 1024"
   ]
  },
  {
   "cell_type": "markdown",
   "id": "e9cf97",
   "metadata": {
    "collapsed": false
   },
   "source": [
    "##### **Mô tả hai luồng chạy đồng thời**\n",
    "\n",
    "Mỗi luồng sẽ đếm số nhịp với số lần được truyền vào qua lời gọi. Có 02 luồng thực thi. Như vậy kết quả cuối sẽ gấp đôi số truyền vào. Tuy nhiên điều này chỉ đúng với các giá trị truyền vào nhỏ. Khi giá trị lớn thì xảy ra điều kiện cạnh tranh và giá trị cuối bị sai sót.\n",
    "\n"
   ]
  },
  {
   "cell_type": "code",
   "execution_count": 17,
   "id": "80940d",
   "metadata": {
    "collapsed": false
   },
   "outputs": [
    {
     "name": "stdout",
     "output_type": "stream",
     "text": [
      "(2859) value of p: 1025\n"
     ]
    },
    {
     "name": "stdout",
     "output_type": "stream",
     "text": [
      "(2859) value of p: 1026\n"
     ]
    },
    {
     "name": "stdout",
     "output_type": "stream",
     "text": [
      "(2859) value of p: 1027\n"
     ]
    },
    {
     "name": "stdout",
     "output_type": "stream",
     "text": [
      "(2859) value of p: 1028\n"
     ]
    },
    {
     "name": "stdout",
     "output_type": "stream",
     "text": [
      "(2859) value of p: 1029\n"
     ]
    },
    {
     "name": "stdout",
     "output_type": "stream",
     "text": [
      "(2859) value of p: 1030\n"
     ]
    },
    {
     "name": "stdout",
     "output_type": "stream",
     "text": [
      "(2859) value of p: 1031\n"
     ]
    },
    {
     "name": "stdout",
     "output_type": "stream",
     "text": [
      "(2859) value of p: 1032\n"
     ]
    },
    {
     "name": "stdout",
     "output_type": "stream",
     "text": [
      "(2859) value of p: 1033\n"
     ]
    },
    {
     "name": "stdout",
     "output_type": "stream",
     "text": [
      "(2859) value of p: 1034\n"
     ]
    },
    {
     "name": "stdout",
     "output_type": "stream",
     "text": [
      "(2859) value of p: 1035\n"
     ]
    },
    {
     "name": "stdout",
     "output_type": "stream",
     "text": [
      "(2859) value of p: 1036\n"
     ]
    },
    {
     "name": "stdout",
     "output_type": "stream",
     "text": [
      "(2859) value of p: 1037\n"
     ]
    },
    {
     "name": "stdout",
     "output_type": "stream",
     "text": [
      "(2859) value of p: 1038\n"
     ]
    },
    {
     "name": "stdout",
     "output_type": "stream",
     "text": [
      "(2859) value of p: 1039\n"
     ]
    },
    {
     "name": "stdout",
     "output_type": "stream",
     "text": [
      "(2859) value of p: 1040\n"
     ]
    },
    {
     "name": "stdout",
     "output_type": "stream",
     "text": [
      "(2859) value of p: 1041\n"
     ]
    },
    {
     "name": "stdout",
     "output_type": "stream",
     "text": [
      "(2859) value of p: 1042\n"
     ]
    },
    {
     "name": "stdout",
     "output_type": "stream",
     "text": [
      "(2859) value of p: 1043\n"
     ]
    },
    {
     "name": "stdout",
     "output_type": "stream",
     "text": [
      "(2859) value of p: 1044\n"
     ]
    },
    {
     "name": "stdout",
     "output_type": "stream",
     "text": [
      "(2859) value of p: 1045\n"
     ]
    },
    {
     "name": "stdout",
     "output_type": "stream",
     "text": [
      "(2859) value of p: 1046\n"
     ]
    },
    {
     "name": "stdout",
     "output_type": "stream",
     "text": [
      "(2859) value of p: 1047\n"
     ]
    },
    {
     "name": "stdout",
     "output_type": "stream",
     "text": [
      "(2859) value of p: 1048\n"
     ]
    },
    {
     "name": "stdout",
     "output_type": "stream",
     "text": [
      "(2859) value of p: 1049\n"
     ]
    },
    {
     "name": "stdout",
     "output_type": "stream",
     "text": [
      "(2859) value of p: 1050\n"
     ]
    },
    {
     "name": "stdout",
     "output_type": "stream",
     "text": [
      "(2859) value of p: 1051\n"
     ]
    },
    {
     "name": "stdout",
     "output_type": "stream",
     "text": [
      "(2859) value of p: 1052\n"
     ]
    },
    {
     "name": "stdout",
     "output_type": "stream",
     "text": [
      "(2859) value of p: 1053\n"
     ]
    },
    {
     "name": "stdout",
     "output_type": "stream",
     "text": [
      "(2859) value of p: 1054\n"
     ]
    },
    {
     "name": "stdout",
     "output_type": "stream",
     "text": [
      "(2859) value of p: 1055\n"
     ]
    },
    {
     "name": "stdout",
     "output_type": "stream",
     "text": [
      "(2859) value of p: 1056\n"
     ]
    },
    {
     "name": "stdout",
     "output_type": "stream",
     "text": [
      "(2859) value of p: 1057\n"
     ]
    },
    {
     "name": "stdout",
     "output_type": "stream",
     "text": [
      "(2859) value of p: 1058\n"
     ]
    },
    {
     "name": "stdout",
     "output_type": "stream",
     "text": [
      "(2859) value of p: 1059\n"
     ]
    },
    {
     "name": "stdout",
     "output_type": "stream",
     "text": [
      "(2859) value of p: 1060\n"
     ]
    },
    {
     "name": "stdout",
     "output_type": "stream",
     "text": [
      "(2859) value of p: 1061\n"
     ]
    },
    {
     "name": "stdout",
     "output_type": "stream",
     "text": [
      "(2859) value of p: 1062\n"
     ]
    },
    {
     "name": "stdout",
     "output_type": "stream",
     "text": [
      "(2859) value of p: 1063\n"
     ]
    },
    {
     "name": "stdout",
     "output_type": "stream",
     "text": [
      "(2859) value of p: 1064\n"
     ]
    },
    {
     "name": "stdout",
     "output_type": "stream",
     "text": [
      "(2859) value of p: 1065\n"
     ]
    },
    {
     "name": "stdout",
     "output_type": "stream",
     "text": [
      "(2859) value of p: 1066\n"
     ]
    },
    {
     "name": "stdout",
     "output_type": "stream",
     "text": [
      "(2859) value of p: 1067\n"
     ]
    },
    {
     "name": "stdout",
     "output_type": "stream",
     "text": [
      "(2859) value of p: 1068\n"
     ]
    },
    {
     "name": "stdout",
     "output_type": "stream",
     "text": [
      "(2859) value of p: 1069\n"
     ]
    },
    {
     "name": "stdout",
     "output_type": "stream",
     "text": [
      "(2859) value of p: 1070\n"
     ]
    },
    {
     "name": "stdout",
     "output_type": "stream",
     "text": [
      "(2859) value of p: 1071\n"
     ]
    },
    {
     "name": "stdout",
     "output_type": "stream",
     "text": [
      "(2859) value of p: 1072\n"
     ]
    },
    {
     "name": "stdout",
     "output_type": "stream",
     "text": [
      "(2859) value of p: 1073\n"
     ]
    },
    {
     "name": "stdout",
     "output_type": "stream",
     "text": [
      "(2859) value of p: 1074\n"
     ]
    },
    {
     "name": "stdout",
     "output_type": "stream",
     "text": [
      "(2859) value of p: 1075\n"
     ]
    },
    {
     "name": "stdout",
     "output_type": "stream",
     "text": [
      "(2859) value of p: 1076\n"
     ]
    },
    {
     "name": "stdout",
     "output_type": "stream",
     "text": [
      "(2859) value of p: 1077\n"
     ]
    },
    {
     "name": "stdout",
     "output_type": "stream",
     "text": [
      "(2859) value of p: 1078\n"
     ]
    },
    {
     "name": "stdout",
     "output_type": "stream",
     "text": [
      "(2859) value of p: 1079\n"
     ]
    },
    {
     "name": "stdout",
     "output_type": "stream",
     "text": [
      "(2859) value of p: 1080\n"
     ]
    },
    {
     "name": "stdout",
     "output_type": "stream",
     "text": [
      "(2859) value of p: 1081\n"
     ]
    },
    {
     "name": "stdout",
     "output_type": "stream",
     "text": [
      "(2859) value of p: 1082\n"
     ]
    },
    {
     "name": "stdout",
     "output_type": "stream",
     "text": [
      "(2859) value of p: 1083\n"
     ]
    },
    {
     "name": "stdout",
     "output_type": "stream",
     "text": [
      "(2859) value of p: 1084\n"
     ]
    },
    {
     "name": "stdout",
     "output_type": "stream",
     "text": [
      "(2859) value of p: 1085\n"
     ]
    },
    {
     "name": "stdout",
     "output_type": "stream",
     "text": [
      "(2859) value of p: 1086\n"
     ]
    },
    {
     "name": "stdout",
     "output_type": "stream",
     "text": [
      "(2859) value of p: 1087\n"
     ]
    },
    {
     "name": "stdout",
     "output_type": "stream",
     "text": [
      "(2859) value of p: 1088\n"
     ]
    },
    {
     "name": "stdout",
     "output_type": "stream",
     "text": [
      "(2859) value of p: 1089\n"
     ]
    },
    {
     "name": "stdout",
     "output_type": "stream",
     "text": [
      "(2859) value of p: 1090\n"
     ]
    },
    {
     "name": "stdout",
     "output_type": "stream",
     "text": [
      "(2859) value of p: 1091\n"
     ]
    },
    {
     "name": "stdout",
     "output_type": "stream",
     "text": [
      "(2859) value of p: 1092\n"
     ]
    },
    {
     "name": "stdout",
     "output_type": "stream",
     "text": [
      "(2859) value of p: 1093\n"
     ]
    },
    {
     "name": "stdout",
     "output_type": "stream",
     "text": [
      "(2859) value of p: 1094\n"
     ]
    },
    {
     "name": "stdout",
     "output_type": "stream",
     "text": [
      "(2859) value of p: 1095\n"
     ]
    },
    {
     "name": "stdout",
     "output_type": "stream",
     "text": [
      "(2859) value of p: 1096\n"
     ]
    },
    {
     "name": "stdout",
     "output_type": "stream",
     "text": [
      "(2859) value of p: 1097\n"
     ]
    },
    {
     "name": "stdout",
     "output_type": "stream",
     "text": [
      "(2859) value of p: 1098\n"
     ]
    },
    {
     "name": "stdout",
     "output_type": "stream",
     "text": [
      "(2859) value of p: 1099\n"
     ]
    },
    {
     "name": "stdout",
     "output_type": "stream",
     "text": [
      "(2859) value of p: 1100\n"
     ]
    },
    {
     "name": "stdout",
     "output_type": "stream",
     "text": [
      "(2859) value of p: 1101\n"
     ]
    },
    {
     "name": "stdout",
     "output_type": "stream",
     "text": [
      "(2859) value of p: 1102\n"
     ]
    },
    {
     "name": "stdout",
     "output_type": "stream",
     "text": [
      "(2859) value of p: 1103\n"
     ]
    },
    {
     "name": "stdout",
     "output_type": "stream",
     "text": [
      "Initial value : 0\n"
     ]
    },
    {
     "name": "stdout",
     "output_type": "stream",
     "text": [
      "Final value   : 2000\n"
     ]
    }
   ],
   "source": [
    " ./threads 1000"
   ]
  },
  {
   "cell_type": "code",
   "execution_count": 18,
   "id": "9978f4",
   "metadata": {
    "collapsed": false
   },
   "outputs": [
    {
     "name": "stdout",
     "output_type": "stream",
     "text": [
      "(2859) value of p: 1104\n"
     ]
    },
    {
     "name": "stdout",
     "output_type": "stream",
     "text": [
      "(2859) value of p: 1105\n"
     ]
    },
    {
     "name": "stdout",
     "output_type": "stream",
     "text": [
      "(2859) value of p: 1106\n"
     ]
    },
    {
     "name": "stdout",
     "output_type": "stream",
     "text": [
      "(2859) value of p: 1107\n"
     ]
    },
    {
     "name": "stdout",
     "output_type": "stream",
     "text": [
      "(2859) value of p: 1108\n"
     ]
    },
    {
     "name": "stdout",
     "output_type": "stream",
     "text": [
      "(2859) value of p: 1109\n"
     ]
    },
    {
     "name": "stdout",
     "output_type": "stream",
     "text": [
      "(2859) value of p: 1110\n"
     ]
    },
    {
     "name": "stdout",
     "output_type": "stream",
     "text": [
      "(2859) value of p: 1111\n"
     ]
    },
    {
     "name": "stdout",
     "output_type": "stream",
     "text": [
      "Initial value : 0\n"
     ]
    },
    {
     "name": "stdout",
     "output_type": "stream",
     "text": [
      "Final value   : 1366133\n"
     ]
    }
   ],
   "source": [
    " ./threads 1000000"
   ]
  },
  {
   "cell_type": "markdown",
   "id": "7be472",
   "metadata": {
    "collapsed": false
   },
   "source": [
    "##### Thao tác tập tin\n",
    "\n",
    "Chương trình io khi thực thi sẽ ghi Hello World vào tập tin file.txt . Mở trình duyệt tập tin và tìm tập tin file.txt để kiểm chứng.\n"
   ]
  },
  {
   "cell_type": "code",
   "execution_count": 0,
   "id": "49ab43",
   "metadata": {
    "collapsed": false
   },
   "outputs": [
   ],
   "source": [
    "./io"
   ]
  }
 ],
 "metadata": {
  "kernelspec": {
   "argv": [
    "python3",
    "-E",
    "-m",
    "bash_kernel",
    "-f",
    "{connection_file}"
   ],
   "display_name": "Bash (Linux)",
   "env": {
    "PS1": "$"
   },
   "language": "bash",
   "name": "bash",
   "resource_dir": "/ext/jupyter/kernels/bash"
  },
  "language_info": {
   "codemirror_mode": "shell",
   "file_extension": ".sh",
   "mimetype": "text/x-sh",
   "name": "bash"
  }
 },
 "nbformat": 4,
 "nbformat_minor": 4
}