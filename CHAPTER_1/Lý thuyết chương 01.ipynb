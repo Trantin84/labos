{
 "cells": [
  {
   "cell_type": "markdown",
   "id": "800fa2",
   "metadata": {
    "collapsed": false
   },
   "source": [
    "#### **DEMO LÝ THUYẾT CHƯƠNG 1**\n",
    "\n",
    "**Giới thiệu về Hệ điều hành.**\n",
    "\n",
    "Chào mừng các bạn đến với một vài demo về tính năng của hệ điều hành. Tập tin Jupyter này có thể thực thi trực tiếp trên môi trường Bash \\(Linux\\). Nếu có bất kỳ thắc mắc hay phát hiện ra sai sót nào, xin vui lòng báo lại cho tôi qua email [trantrungtin@tdtu.edu.vn](mailto:trantrungtin@tdtu.edu.vn) hoặc liên hệ qua GitHub của tôi tại https://github.com/tranttin.\n",
    "\n",
    "Xin chân thành cảm ơn và chúc các bạn học tốt! \n",
    "\n",
    "Thầy Trần Trung Tín\n",
    "\n"
   ]
  },
  {
   "cell_type": "markdown",
   "id": "fec8a1",
   "metadata": {
    "collapsed": false
   },
   "source": [
    "- Kiểm tra nội dung thư mục đã đủ các tập tin common\\_threads.h, io.c, threads.c, ... \n",
    "- Sử dụng make để dịch hàng loạt ra các tập tin khả thực thi\n",
    "\n"
   ]
  },
  {
   "cell_type": "code",
   "execution_count": 0,
   "id": "ab1c7a",
   "metadata": {
    "collapsed": true
   },
   "outputs": [
   ],
   "source": [
    "ls\n",
    "make"
   ]
  },
  {
   "cell_type": "markdown",
   "id": "5f1906",
   "metadata": {
    "collapsed": false
   },
   "source": [
    "##### **Mô tả yêu cầu CPU của một tiến trình A**\n",
    "\n",
    "Khi thực thi đoạn mã ngay dưới đây,hệ thống bắt đầu chạy chương trình. Chương trình này liên tục kiểm tra thời gian cho đến khi một giây trôi qua. Khi một giây đã trôi qua, mã sẽ in chuỗi ký tự đầu vào do người dùng cung cấp \\(trong ví dụ này là chữ “A”\\) và tiếp tục chạy. Lưu ý rằng chương trình sẽ chạy mãi mãi; bằng cách nhấn “Ctrl\\-C” \\(trên các hệ thống dựa trên UNIX, thao tác này sẽ kết thúc chương trình đang chạy ở chế độ nền\\), hoặc nhấn Stop khi sử dụng Jupyter notebooks, chúng ta có thể dừng chương trình.\n",
    "\n"
   ]
  },
  {
   "cell_type": "code",
   "execution_count": 0,
   "id": "85f0e5",
   "metadata": {
    "collapsed": false
   },
   "outputs": [
   ],
   "source": [
    "./cpu \"A\""
   ]
  },
  {
   "cell_type": "markdown",
   "id": "59b310",
   "metadata": {
    "collapsed": false
   },
   "source": [
    "##### **Mô tả cấp phát CPU luân phiên cho nhiều tiến trình thực thi đồng thời**\n",
    "\n",
    "Chúng ta chạy bốn tiến trình cùng lúc bằng cách sử dụng ký hiệu &. Việc này sẽ chạy một tác vụ trong nền trong shell zsh, nghĩa là người dùng có thể ngay lập tức thực hiện lệnh tiếp theo, trong trường hợp này là chạy một chương trình khác.\n",
    "\n"
   ]
  },
  {
   "cell_type": "code",
   "execution_count": 0,
   "id": "b595ac",
   "metadata": {
    "collapsed": false,
    "scrolled": true
   },
   "outputs": [
   ],
   "source": [
    " ./cpu \"A\" & ./cpu \"B\" & ./cpu \"C\" & ./cpu \"D\" "
   ]
  },
  {
   "cell_type": "markdown",
   "id": "a292f8",
   "metadata": {
    "collapsed": false
   },
   "source": [
    "Lưu ý rằng khi nhấn Stop trên đoạn code, các tiến trình vẫn còn tồn tại. Nếu đoạn code được chạy thêm lần nữa, các tiến trình A, B, C, D lại được tạo ra. Các tiến trình có thể trùng tên do PID mới là đối tượng quản lý.\n",
    "\n"
   ]
  },
  {
   "cell_type": "markdown",
   "id": "b2be36",
   "metadata": {
    "collapsed": false
   },
   "source": [
    "##### **Mô tả cấp phát bộ nhớ cho 2 tiến trình**\n",
    "\n",
    "Địa chỉ luận lý có thể giống nhau \\(do không gian tách biệt\\), nhưng địa chỉ vật lý sẽ phải cách biệt bằng cách cách phát con trỏ quản lý ở các địa chỉ khác nhau.\n",
    "\n"
   ]
  },
  {
   "cell_type": "code",
   "execution_count": 0,
   "id": "85be38",
   "metadata": {
    "collapsed": false
   },
   "outputs": [
   ],
   "source": [
    "./mem 1024 & ./mem & 1024"
   ]
  },
  {
   "cell_type": "markdown",
   "id": "e9cf97",
   "metadata": {
    "collapsed": false
   },
   "source": [
    "##### **Mô tả hai luồng chạy đồng thời**\n",
    "\n",
    "Mỗi luồng sẽ đếm số nhịp với số lần được truyền vào qua lời gọi. Có 02 luồng thực thi. Như vậy kết quả cuối sẽ gấp đôi số truyền vào. Tuy nhiên điều này chỉ đúng với các giá trị truyền vào nhỏ. Khi giá trị lớn thì xảy ra điều kiện cạnh tranh và giá trị cuối bị sai sót.\n",
    "\n"
   ]
  },
  {
   "cell_type": "code",
   "execution_count": 0,
   "id": "80940d",
   "metadata": {
    "collapsed": false
   },
   "outputs": [
   ],
   "source": [
    " ./threads 1000"
   ]
  },
  {
   "cell_type": "code",
   "execution_count": 0,
   "id": "9978f4",
   "metadata": {
    "collapsed": false
   },
   "outputs": [
   ],
   "source": [
    " ./threads 1000000"
   ]
  },
  {
   "cell_type": "markdown",
   "id": "7be472",
   "metadata": {
    "collapsed": false
   },
   "source": [
    "##### **Thao tác tập tin**\n",
    "\n",
    "Chương trình io khi thực thi sẽ ghi Hello World vào tập tin file.txt . Mở trình duyệt tập tin và tìm tập tin file.txt để kiểm chứng.\n",
    "\n"
   ]
  },
  {
   "cell_type": "code",
   "execution_count": 0,
   "id": "49ab43",
   "metadata": {
    "collapsed": false
   },
   "outputs": [
   ],
   "source": [
    "./io"
   ]
  }
 ],
 "metadata": {
  "kernelspec": {
   "argv": [
    "python3",
    "-E",
    "-m",
    "bash_kernel",
    "-f",
    "{connection_file}"
   ],
   "display_name": "Bash (Linux)",
   "env": {
    "PS1": "$"
   },
   "language": "bash",
   "name": "bash",
   "resource_dir": "/ext/jupyter/kernels/bash"
  },
  "language_info": {
   "codemirror_mode": "shell",
   "file_extension": ".sh",
   "mimetype": "text/x-sh",
   "name": "bash"
  }
 },
 "nbformat": 4,
 "nbformat_minor": 4
}