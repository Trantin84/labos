{
 "cells": [
  {
   "cell_type": "markdown",
   "id": "800fa2",
   "metadata": {
    "collapsed": false
   },
   "source": [
    "#### **DEMO LÝ THUYẾT CHƯƠNG 2**\n",
    "\n",
    "**Giao diện CLI / GUI; Lời gọi hệ thống và Liên kết thư viện.**\n",
    "\n",
    "Chào mừng các bạn đến với các hướng dẫn về giao diện dòng lệnh và giao diên đồ họa của hệ điều hành, sau đó là mô tả các lời gọi hệ thống và cách chúng ta sử dụng liên kết thư viện trong quá trình xây dựng ứng dụng. Tập tin Jupyter này có thể thực thi trực tiếp trên môi trường Bash \\(Linux\\), một số thao tác vào nhân HĐH cần tiến hành trên máy ảo để đủ quyền quản trị. Nếu có bất kỳ thắc mắc hay phát hiện ra sai sót nào, xin vui lòng báo lại cho tôi qua email [trantrungtin@tdtu.edu.vn](mailto:trantrungtin@tdtu.edu.vn) hoặc liên hệ qua GitHub của tôi tại https://github.com/tranttin.\n",
    "\n",
    "Xin chân thành cảm ơn và chúc các bạn học tốt! \n",
    "\n",
    "Thầy Trần Trung Tín\n",
    "\n"
   ]
  },
  {
   "cell_type": "markdown",
   "id": "fec8a1",
   "metadata": {
    "collapsed": false
   },
   "source": [
    "Nội dung bao gồm:\n",
    "\n",
    "1. Tình huống thực tế: Thao tác copy tập tin.\n",
    "2. Lệnh Terminal copy file\n",
    "3. Chương trình copy\\_posix.c như là một ứng dụng dòng lệnh trong Ubuntu\n",
    "4. Chương trình copy\\_win32.c như là một ứng dụng dòng lệnh trong Windows\n",
    "5. Chương trình copy\\_GUI\\_gtk.c như là một ứng dụng GUI trong Ubuntu\n",
    "6. Chương trình copy\\_GUI\\_win32.c như là một ứng dụng GUI trong Windows\n",
    "7. Liệu có thể sử dụng một tập tin mã nguồn .c duy nhất cho các Linux lẫn Windows không?\n",
    "8. Chương trình copy.python\n",
    "9. Chương trình copy.java\n",
    "\n"
   ]
  },
  {
   "cell_type": "markdown",
   "id": "2195a3",
   "metadata": {
    "collapsed": false
   },
   "source": [
    "##### **Thao tác sao chép tập tin**\n",
    "\n",
    "Đây là nội dung thảo luận, giảng viên hướng dẫn tại lớp học. Người học có thể nêu ra các tình huống sao chép tập tin của các người dùng cho nhau. Trong mỗi tình huống, hãy mô tả thiết bị, môi trường kết nối, giao diện người\\-máy, thuận lợi, khó khăn, điều kiện tiến hành.\n",
    "\n",
    "_Ví dụ: Trong dịp nghỉ lễ Quốc khánh, bạn và bố mẹ đã chụp vài bức ảnh kỉ niệm cùng nhau. Khi trở về kí túc xá, bạn muốn dùng các bức ảnh đó làm hình nền cho laptop của bạn. Bạn sẽ phải làm gì? Có những thiết bị, hệ điều hành, chương trình máy tính nào cần thiết trong tất cả quá trình đó. Môi trường mạng máy tính nào có thể sử dụng? \\(4G, Wifi, LAN, Bluetooth, ...?\\). Đánh giá mức độ khó/ trung bình/ dễ cho các thao tác này với từng người trong câu chuyện trên._\n",
    "\n"
   ]
  },
  {
   "cell_type": "markdown",
   "id": "3765d6",
   "metadata": {
    "collapsed": false
   },
   "source": [
    "##### **Sao chép tập tin bằng lệnh**\n",
    "\n",
    "Hãy liệt kê nội dung thư mục hiện hành, sao chép tập tin source.txt vào tập tin dest.txt bằng lệnh **cp** và quan sát các tình huống sau:\n",
    "\n",
    "1. Nếu tập tin dest.txt chưa tồn tại?\n",
    "2. Nếu tập tin dest.txt đã tồn tại và chứa dữ liệu khác?\n",
    "3. Liệu có thể sao chép tập tin kiểu khác với .txt không? Ví dụ .c, .out, ...\n",
    "4. Hãy sao chép tập tin source.txt thành tập tin dest2.txt nằm trong thư mục CHAP01\n",
    "\n"
   ]
  },
  {
   "cell_type": "code",
   "execution_count": 0,
   "id": "ab1c7a",
   "metadata": {
    "collapsed": false
   },
   "outputs": [
   ],
   "source": [
    "whatis cp\n",
    "ls\n",
    "echo \"*** Nội dung tập tin nguồn\"\n",
    "cat source.txt\n",
    "cp source.txt dest.txt\n",
    "echo \"*** Nội dung tập tin đích\"\n",
    "cat source.txt"
   ]
  },
  {
   "cell_type": "code",
   "execution_count": 0,
   "id": "cf9628",
   "metadata": {
    "collapsed": false
   },
   "outputs": [
   ],
   "source": [
    "cp source.txt ../CHAP01/dest2.txt\n",
    "cat ../CHAP01/dest2.txt"
   ]
  },
  {
   "cell_type": "markdown",
   "id": "5f1906",
   "metadata": {
    "collapsed": false
   },
   "source": [
    "**Lập trình ứng dụng dòng lệnh để sao chép tập tin trong Linux**\n",
    "\n",
    "- Hãy xem nội dung tập tin mã nguồn copy.c \n",
    "  - Chương trình yêu cầu truyền đúng 2 tham số: tên tập tin nguồn và tên tập tin đích,\n",
    "  - Chương trình sử dụng buffer có kích thước 1024 bytes \\(nếu lớn hơn hay nhỏ hơn thì sao?\\),\n",
    "  - Chương trình cần xử lý các ngoại lệ nào, ví dụ: tập tin nguồn không tồn tại,\n",
    "  - Chương trình tương tác với người dùng bằng những thông báo gì?\n",
    "- Biên dịch bằng lệnh gcc và thực thi chương trình được tạo ra, thử nghiệm và so sánh với lệnh cp\n",
    "  - Lệnh strace để thể hiện chi tiết danh sách lời gọi hệ thống.\n",
    "- So sánh lệnh cp và chương trình copy, về mức độ ưu tiên, tốc độ thực thi, phát hành và cải tiến\n",
    "  - Lệnh time có thể sử dụng để đo thời gian,\n",
    "  - Lệnh tr để lọc kí tự trong nhóm cho phép và ghi vào tập tin bằng chỉ thị \"&gt;\".\n",
    "\n"
   ]
  },
  {
   "cell_type": "code",
   "execution_count": 0,
   "id": "85f0e5",
   "metadata": {
    "collapsed": false
   },
   "outputs": [
   ],
   "source": [
    "gcc -o copy copy_posix.c\n",
    "ls\n",
    "./copy source.txt dest3.txt\n",
    "echo \"*** Nội dung tập tin đích\"\n",
    "cat dest3.txt"
   ]
  },
  {
   "cell_type": "code",
   "execution_count": 0,
   "id": "b323ff",
   "metadata": {
    "collapsed": false
   },
   "outputs": [
   ],
   "source": [
    "tr -dc \"A-Za-z 0-9\" < /dev/urandom | fold -w100|head -n 100000 > bigfile.txt"
   ]
  },
  {
   "cell_type": "code",
   "execution_count": 0,
   "id": "fc52aa",
   "metadata": {
    "collapsed": false
   },
   "outputs": [
   ],
   "source": [
    "time cp bigfile.txt bigdest1.txt"
   ]
  },
  {
   "cell_type": "code",
   "execution_count": 0,
   "id": "29804a",
   "metadata": {
    "collapsed": false
   },
   "outputs": [
   ],
   "source": [
    "time ./copy bigfile.txt bigdest2.txt"
   ]
  },
  {
   "cell_type": "code",
   "execution_count": 0,
   "id": "b9e8c4",
   "metadata": {
    "collapsed": false
   },
   "outputs": [
   ],
   "source": [
    "strace ./copy source.txt dest.txt"
   ]
  },
  {
   "cell_type": "markdown",
   "id": "59b310",
   "metadata": {
    "collapsed": false
   },
   "source": [
    "##### **Lập trình ứng dụng dòng lệnh sao chép tập tin trong Windows**\n",
    "\n",
    "- Hãy xem nội dung tập tin mã nguồn copy\\_win32.c \n",
    "  - So sánh cấu trúc với chương trình copy\\_posix.c ở phần trước\n",
    "  - Hãy biên dịch và giải thích về lỗi trong quá trình này\n",
    "- Sử dụng Cywin trong môi trường Windows để biên dịch và thử nghiệm chương trình\n",
    "\n"
   ]
  },
  {
   "cell_type": "code",
   "execution_count": 0,
   "id": "b595ac",
   "metadata": {
    "collapsed": false,
    "scrolled": true
   },
   "outputs": [
   ],
   "source": [
    "gcc -o copy_win copy_win32.c"
   ]
  },
  {
   "cell_type": "markdown",
   "id": "a292f8",
   "metadata": {
    "collapsed": false
   },
   "source": [
    "**Lập trình ứng dụng GUI để sao chép tập tin trên Linux**\n",
    "\n",
    "- Hãy xem nội dung tập tin mã nguồn copy\\_GUI\\_posix.c \n",
    "  - Chương trình yêu cầu truyền đúng 2 tham số: tên tập tin nguồn và tên tập tin đích\n",
    "- Biên dịch tập tin này\n",
    "  - Có thể thực tin chương trình đích trên Cocalc này không?\n",
    "  - Hãy mang tập tin đích sang máy ảo Ubuntu để thực thi.\n",
    "\n"
   ]
  },
  {
   "cell_type": "code",
   "execution_count": 0,
   "id": "907c1a",
   "metadata": {
    "collapsed": false
   },
   "outputs": [
   ],
   "source": [
    "gcc -o copy_GUI copy_GUI_posix.c `pkg-config --cflags --libs gtk+-3.0`\n",
    "ls"
   ]
  },
  {
   "cell_type": "code",
   "execution_count": 0,
   "id": "fb4577",
   "metadata": {
    "collapsed": false
   },
   "outputs": [
   ],
   "source": [
    "echo \"Lệnh này không thực thi được trên Cocalc, hãy thực thi trên máy ảo Ubuntu của bạn.\"\n",
    "sudo apt-get install libgtk-3-dev\n",
    "gcc -o copy_GUI copy_GUI_gtk.c `pkg-config --cflags --libs gtk+-3.0`"
   ]
  },
  {
   "cell_type": "markdown",
   "id": "b2be36",
   "metadata": {
    "collapsed": false
   },
   "source": [
    "##### **Lập trình ứng dụng GUI sao chép tập tin trên Windows**\n",
    "\n",
    "- Tập tin đặt trong thư mục GUI\\_WIN\n",
    "- Sử dụng môi trường Windows để biên dịch\n",
    "- Tải về và cài đặt Visual Studio Build Tools từ website Visual Studio's.Lưu ý chọn phần \"Visual Studio Build Tools are installed with C\\+\\+ development tools\"\n",
    "- Chạy \"Developer Command Prompt for VS 2022.\"\n",
    "- Đi đến thư mục chứa mã nguồn, biên dịch, và chạy thử tập tin .exe\n",
    "\n"
   ]
  },
  {
   "cell_type": "code",
   "execution_count": 0,
   "id": "85be38",
   "metadata": {
    "collapsed": false
   },
   "outputs": [
   ],
   "source": [
    "echo \"Các đoạn code này cần thực thi trong môi trường Windows\"\n",
    "cd path\\to\\your\\directory\\WIN_GUI\\\n",
    "cl COPY_GUI.c user32.lib gdi32.lib comdlg32.lib"
   ]
  },
  {
   "cell_type": "markdown",
   "id": "e9cf97",
   "metadata": {
    "collapsed": false
   },
   "source": [
    "##### **Lập trình chương trình sao chép tập tin bằng ngôn ngữ Python**\n",
    "\n",
    "- Chuyển đổi kernel của file jupyter notebook này thành \"Python 3 \\(system\\-wide\\) để thực thi.\n",
    "- Chuyển đổi kernel thành \"Bash \\(Linux\\)\" để thực thi các đoạn code khác.\n",
    "\n"
   ]
  },
  {
   "cell_type": "code",
   "execution_count": 0,
   "id": "80940d",
   "metadata": {
    "collapsed": false
   },
   "outputs": [
   ],
   "source": [
    "%run copy_python.py source.txt dest5.txt"
   ]
  },
  {
   "cell_type": "markdown",
   "id": "efde80",
   "metadata": {
    "collapsed": false
   },
   "source": [
    "##### **Lập trình chương trình sao chép tập tin bằng ngôn ngữ Java**\n",
    "\n",
    "- Tùy vào HĐH mà cài đặt JDK tương ứng.\n",
    "- Biên tập file .java\n",
    "- Biên dịch file .java bằng lệnh javac\n",
    "- Thực thi file kết quả biên dịch bằng lệnh java\n",
    "\n"
   ]
  },
  {
   "cell_type": "code",
   "execution_count": 4,
   "id": "a9fd65",
   "metadata": {
    "collapsed": false
   },
   "outputs": [
    {
     "name": "stdout",
     "output_type": "stream",
     "text": [
      "Đối với Windows\n"
     ]
    },
    {
     "name": "stdout",
     "output_type": "stream",
     "text": [
      "Bước 1: Tải về JDK Development Kit 22.0.2 tại https://www.oracle.com/java/technologies/downloads/?er=221886\n"
     ]
    },
    {
     "name": "stdout",
     "output_type": "stream",
     "text": [
      "Bước 2:Thiết lập PATH \\\"C:\\Program Files\\Java\\jdk-22\\bin\\\" như là biến môi trường (Vào Start -> Computer -> System Properties -> Advanced system settings -> Environment Variables -> System variables -> PATH)\n"
     ]
    },
    {
     "name": "stdout",
     "output_type": "stream",
     "text": [
      "Bước 3: Mở shell để biên dịch bằng javac hoặc cài thêm các IDE để biên tập cho thuận tiện.\n"
     ]
    }
   ],
   "source": [
    "echo 'Đối với Windows'\n",
    "echo 'Bước 1: Tải về JDK Development Kit 22.0.2 tại https://www.oracle.com/java/technologies/downloads/?er=221886'\n",
    "echo 'Bước 2:Thiết lập PATH \\\"C:\\Program Files\\Java\\jdk-22\\bin\\\" như là biến môi trường (Vào Start -> Computer -> System Properties -> Advanced system settings -> Environment Variables -> System variables -> PATH)'\n",
    "echo 'Bước 3: Mở shell để biên dịch bằng javac hoặc cài thêm các IDE để biên tập cho thuận tiện.'\n",
    "\n"
   ]
  },
  {
   "cell_type": "code",
   "execution_count": 5,
   "id": "84a77b",
   "metadata": {
    "collapsed": false
   },
   "outputs": [
    {
     "name": "stdout",
     "output_type": "stream",
     "text": [
      "Đối với Linux\n"
     ]
    },
    {
     "name": "stdout",
     "output_type": "stream",
     "text": [
      "Picked up _JAVA_OPTIONS: -Xms64m\n"
     ]
    },
    {
     "name": "stdout",
     "output_type": "stream",
     "text": [
      "javac 11.0.19\n"
     ]
    },
    {
     "name": "stdout",
     "output_type": "stream",
     "text": [
      "Sử dụng lệnh này trên máy Linux nếu bộ dịch Java chưa có\n"
     ]
    },
    {
     "name": "stdout",
     "output_type": "stream",
     "text": [
      "\n"
     ]
    },
    {
     "name": "stdout",
     "output_type": "stream",
     "text": [
      "╔══════════════════════════════════════════════════════════════════╗\n"
     ]
    },
    {
     "name": "stdout",
     "output_type": "stream",
     "text": [
      "║ /!\\          STOP: YOUR ARE NOT AN ADMINISTRATOR             /!\\ ║\n"
     ]
    },
    {
     "name": "stdout",
     "output_type": "stream",
     "text": [
      "╠══════════════════════════════════════════════════════════════════╣\n"
     ]
    },
    {
     "name": "stdout",
     "output_type": "stream",
     "text": [
      "║ It is not possible to gain elevated privileges – neither via     ║\n"
     ]
    },
    {
     "name": "stdout",
     "output_type": "stream",
     "text": [
      "║ sudo nor any other mechanism. CoCalc projects run in heavily     ║\n"
     ]
    },
    {
     "name": "stdout",
     "output_type": "stream",
     "text": [
      "║ restricted containers for security reasons!                      ║\n"
     ]
    },
    {
     "name": "stdout",
     "output_type": "stream",
     "text": [
      "║                                                                  ║\n"
     ]
    },
    {
     "name": "stdout",
     "output_type": "stream",
     "text": [
      "║ In case you want to install some software, some quick help:      ║\n"
     ]
    },
    {
     "name": "stdout",
     "output_type": "stream",
     "text": [
      "║ Python: pip3 install --user [pkgname]                            ║\n"
     ]
    },
    {
     "name": "stdout",
     "output_type": "stream",
     "text": [
      "║         https://doc.cocalc.com/howto/install-python-lib.html     ║\n"
     ]
    },
    {
     "name": "stdout",
     "output_type": "stream",
     "text": [
      "║ Node:   npm [pkg] instead of sudo npm -g [pkg]                   ║\n"
     ]
    },
    {
     "name": "stdout",
     "output_type": "stream",
     "text": [
      "║ R:      open Terminal, run R, and then install.package(...)      ║\n"
     ]
    },
    {
     "name": "stdout",
     "output_type": "stream",
     "text": [
      "║         https://doc.cocalc.com/howto/install-r-package.html      ║\n"
     ]
    },
    {
     "name": "stdout",
     "output_type": "stream",
     "text": [
      "║ Build:  ./configure --prefix=~/.local && make && make install    ║\n"
     ]
    },
    {
     "name": "stdout",
     "output_type": "stream",
     "text": [
      "║                                                                  ║\n"
     ]
    },
    {
     "name": "stdout",
     "output_type": "stream",
     "text": [
      "║ Support: help@cocalc.com – for global software install requests  ║\n"
     ]
    },
    {
     "name": "stdout",
     "output_type": "stream",
     "text": [
      "╚══════════════════════════════════════════════════════════════════╝\n"
     ]
    },
    {
     "name": "stdout",
     "output_type": "stream",
     "text": [
      "\n"
     ]
    },
    {
     "name": "stdout",
     "output_type": "stream",
     "text": [
      "\n"
     ]
    },
    {
     "name": "stdout",
     "output_type": "stream",
     "text": [
      "╔══════════════════════════════════════════════════════════════════╗\n"
     ]
    },
    {
     "name": "stdout",
     "output_type": "stream",
     "text": [
      "║ /!\\          STOP: YOUR ARE NOT AN ADMINISTRATOR             /!\\ ║\n"
     ]
    },
    {
     "name": "stdout",
     "output_type": "stream",
     "text": [
      "╠══════════════════════════════════════════════════════════════════╣\n"
     ]
    },
    {
     "name": "stdout",
     "output_type": "stream",
     "text": [
      "║ It is not possible to gain elevated privileges – neither via     ║\n"
     ]
    },
    {
     "name": "stdout",
     "output_type": "stream",
     "text": [
      "║ sudo nor any other mechanism. CoCalc projects run in heavily     ║\n"
     ]
    },
    {
     "name": "stdout",
     "output_type": "stream",
     "text": [
      "║ restricted containers for security reasons!                      ║\n"
     ]
    },
    {
     "name": "stdout",
     "output_type": "stream",
     "text": [
      "║                                                                  ║\n"
     ]
    },
    {
     "name": "stdout",
     "output_type": "stream",
     "text": [
      "║ In case you want to install some software, some quick help:      ║\n"
     ]
    },
    {
     "name": "stdout",
     "output_type": "stream",
     "text": [
      "║ Python: pip3 install --user [pkgname]                            ║\n"
     ]
    },
    {
     "name": "stdout",
     "output_type": "stream",
     "text": [
      "║         https://doc.cocalc.com/howto/install-python-lib.html     ║\n"
     ]
    },
    {
     "name": "stdout",
     "output_type": "stream",
     "text": [
      "║ Node:   npm [pkg] instead of sudo npm -g [pkg]                   ║\n"
     ]
    },
    {
     "name": "stdout",
     "output_type": "stream",
     "text": [
      "║ R:      open Terminal, run R, and then install.package(...)      ║\n"
     ]
    },
    {
     "name": "stdout",
     "output_type": "stream",
     "text": [
      "║         https://doc.cocalc.com/howto/install-r-package.html      ║\n"
     ]
    },
    {
     "name": "stdout",
     "output_type": "stream",
     "text": [
      "║ Build:  ./configure --prefix=~/.local && make && make install    ║\n"
     ]
    },
    {
     "name": "stdout",
     "output_type": "stream",
     "text": [
      "║                                                                  ║\n"
     ]
    },
    {
     "name": "stdout",
     "output_type": "stream",
     "text": [
      "║ Support: help@cocalc.com – for global software install requests  ║\n"
     ]
    },
    {
     "name": "stdout",
     "output_type": "stream",
     "text": [
      "╚══════════════════════════════════════════════════════════════════╝\n"
     ]
    },
    {
     "name": "stdout",
     "output_type": "stream",
     "text": [
      "\n"
     ]
    },
    {
     "ename": "",
     "evalue": "1",
     "output_type": "error",
     "traceback": [
     ]
    }
   ],
   "source": [
    "echo 'Đối với Linux'\n",
    "javac --version\n",
    "echo 'Sử dụng lệnh này trên máy Linux nếu bộ dịch Java chưa có'\n",
    "sudo apt update\n",
    "sudo apt install openjdk-17-jdk"
   ]
  },
  {
   "cell_type": "code",
   "execution_count": 0,
   "id": "9978f4",
   "metadata": {
    "collapsed": false
   },
   "outputs": [
   ],
   "source": [
    "javac CopyFile.java\n",
    "java CopyFile source.txt dest.txt"
   ]
  }
 ],
 "metadata": {
  "kernelspec": {
   "argv": [
    "python3",
    "-E",
    "-m",
    "bash_kernel",
    "-f",
    "{connection_file}"
   ],
   "display_name": "Bash (Linux)",
   "env": {
    "PS1": "$"
   },
   "language": "bash",
   "name": "bash",
   "resource_dir": "/ext/jupyter/kernels/bash"
  },
  "language_info": {
   "codemirror_mode": "shell",
   "file_extension": ".sh",
   "mimetype": "text/x-sh",
   "name": "bash"
  }
 },
 "nbformat": 4,
 "nbformat_minor": 4
}