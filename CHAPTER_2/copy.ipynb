{
 "cells": [
  {
   "cell_type": "markdown",
   "id": "68b1ac4c-ee6b-48e6-b6fb-20a2ed87d743",
   "metadata": {
    "collapsed": false
   },
   "source": [
    "# File Copy Script in Jupyter Notebook\n",
    "\n",
    "This notebook demonstrates how to copy a file from a source to a destination using Python."
   ]
  },
  {
   "cell_type": "code",
   "execution_count": 2,
   "id": "a055a45b-79e0-4b13-bdb3-8fa5d9fab1a3",
   "metadata": {
    "collapsed": false
   },
   "outputs": [
   ],
   "source": [
    "# Step 1: Import Necessary Libraries\n",
    "import os\n",
    "import sys"
   ]
  },
  {
   "cell_type": "code",
   "execution_count": 3,
   "id": "0626761b-1c90-4535-91a4-511a8f34043e",
   "metadata": {
    "collapsed": false
   },
   "outputs": [
   ],
   "source": [
    "# Step 2: Define the copy_file Function\n",
    "def copy_file(source, destination):\n",
    "    try:\n",
    "        # Open the source file for reading\n",
    "        with open(source, 'rb') as src_file:\n",
    "            # Check if the destination file already exists\n",
    "            if os.path.exists(destination):\n",
    "                response = input(f\"Destination file '{destination}' already exists. Overwrite? (y/n): \")\n",
    "                if response.lower() != 'y':\n",
    "                    print(\"Operation aborted.\")\n",
    "                    return\n",
    "            \n",
    "            # Open the destination file for writing\n",
    "            with open(destination, 'wb') as dest_file:\n",
    "                # Read and write in chunks\n",
    "                while chunk := src_file.read(1024):\n",
    "                    dest_file.write(chunk)\n",
    "        \n",
    "        print(f\"File '{source}' copied to '{destination}' successfully.\")\n",
    "    \n",
    "    except FileNotFoundError:\n",
    "        print(f\"Error: The file '{source}' does not exist.\")\n",
    "    except IOError as e:\n",
    "        print(f\"Error: {e}\")\n",
    "    except Exception as e:\n",
    "        print(f\"An unexpected error occurred: {e}\")"
   ]
  },
  {
   "cell_type": "code",
   "execution_count": 4,
   "id": "1a3b28a2-19de-4835-9440-1d9acbe7c4ff",
   "metadata": {
    "collapsed": false
   },
   "outputs": [
    {
     "name": "stdout",
     "output_type": "stream",
     "text": [
      "File 'source.txt' copied to 'destination_file.txt' successfully.\n"
     ]
    }
   ],
   "source": [
    "# Step 3: Define the source and destination file names\n",
    "source_file = 'source.txt'\n",
    "destination_file = 'destination_file.txt'\n",
    "\n",
    "# Step 4: Run the file copy operation\n",
    "copy_file(source_file, destination_file)"
   ]
  }
 ],
 "metadata": {
  "kernelspec": {
   "argv": [
    "/usr/bin/python3",
    "-m",
    "ipykernel",
    "--HistoryManager.enabled=False",
    "--matplotlib=inline",
    "-c",
    "%config InlineBackend.figure_formats = set(['retina'])\nimport matplotlib; matplotlib.rcParams['figure.figsize'] = (12, 7)",
    "-f",
    "{connection_file}"
   ],
   "display_name": "Python 3 (system-wide)",
   "env": {
   },
   "language": "python",
   "metadata": {
    "cocalc": {
     "description": "Python 3 programming language",
     "priority": 100,
     "url": "https://www.python.org/"
    }
   },
   "name": "python3",
   "resource_dir": "/ext/jupyter/kernels/python3"
  },
  "language_info": {
   "codemirror_mode": {
    "name": "ipython",
    "version": 3
   },
   "file_extension": ".py",
   "mimetype": "text/x-python",
   "name": "python",
   "nbconvert_exporter": "python",
   "pygments_lexer": "ipython3",
   "version": "3.8.10"
  }
 },
 "nbformat": 4,
 "nbformat_minor": 4
}