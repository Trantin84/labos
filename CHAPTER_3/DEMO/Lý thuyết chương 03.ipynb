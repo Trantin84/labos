{
 "cells": [
  {
   "cell_type": "markdown",
   "id": "800fa2",
   "metadata": {
    "collapsed": false
   },
   "source": [
    "### **DEMO LÝ THUYẾT CHƯƠNG 3**\n",
    "\n",
    "**Tiến trình con: sự cần thiết, cấu trúc và ứng dụng**\n",
    "\n",
    "Chào mừng các bạn đến với các hướng dẫn về giao diện dòng lệnh và giao diên đồ họa của hệ điều hành, sau đó là mô tả các lời gọi hệ thống và cách chúng ta sử dụng liên kết thư viện trong quá trình xây dựng ứng dụng. Tập tin Jupyter này có thể thực thi trực tiếp trên môi trường Bash \\(Linux\\), một số thao tác vào nhân HĐH cần tiến hành trên máy ảo để đủ quyền quản trị. Nếu có bất kỳ thắc mắc hay phát hiện ra sai sót nào, xin vui lòng báo lại cho tôi qua email [trantrungtin@tdtu.edu.vn](mailto:trantrungtin@tdtu.edu.vn) hoặc liên hệ qua GitHub của tôi tại https://github.com/tranttin.\n",
    "\n",
    "Xin chân thành cảm ơn và chúc các bạn học tốt! \n",
    "\n",
    "Thầy Trần Trung Tín\n",
    "\n"
   ]
  },
  {
   "cell_type": "markdown",
   "id": "fec8a1",
   "metadata": {
    "collapsed": false
   },
   "source": [
    "Nội dung bao gồm:\n",
    "\n",
    "1. Tình huống thực tế: Ai đánh thức chúng ta?\n",
    "2. Đo thời gian chạy chương trình bằng lấy thời gian hệ thống\n",
    "3. Đo thời gian chạy chương trình bằng tạo ra tiến trình con\n",
    "4. Thảo luận về máy ATM\n",
    "5. Thảo luận về chương trình \"lễ tân\"\n",
    "\n"
   ]
  },
  {
   "cell_type": "markdown",
   "id": "3765d6",
   "metadata": {
    "collapsed": false
   },
   "source": [
    "##### **Ai đánh thức chúng ta**\n",
    "\n",
    "Nội dung được trao đổi tại lớp\n",
    "\n"
   ]
  },
  {
   "cell_type": "markdown",
   "id": "8ee8e3",
   "metadata": {
    "collapsed": false
   },
   "source": [
    "- Chạy lệnh make để biên dịch tất cả tập tin mã nguồn\n",
    "- Chạy các code cell để xem demo, một số demo nên gọi chạy bằng CLI để tương tác tốt hơn.\n",
    "\n"
   ]
  },
  {
   "cell_type": "code",
   "execution_count": 0,
   "id": "1087a2",
   "metadata": {
    "collapsed": false
   },
   "outputs": [
   ],
   "source": [
    "ls\n",
    "make"
   ]
  },
  {
   "cell_type": "markdown",
   "id": "203ad5",
   "metadata": {
    "collapsed": false
   },
   "source": [
    "**Giới hạn thời gian nhập mã PIN của ATM**\n",
    "\n",
    "- atm\\_timer sử dụng timer của hệ thống\n",
    "- atm sử dụng một tiến trình con làm bộ đếm thời gian\n",
    "\n"
   ]
  },
  {
   "cell_type": "code",
   "execution_count": 0,
   "id": "647325",
   "metadata": {
    "collapsed": false
   },
   "outputs": [
   ],
   "source": [
    "./atm_timer"
   ]
  },
  {
   "cell_type": "code",
   "execution_count": 0,
   "id": "6b10d2",
   "metadata": {
    "collapsed": false
   },
   "outputs": [
   ],
   "source": [
    "./atm"
   ]
  },
  {
   "cell_type": "markdown",
   "id": "5f1906",
   "metadata": {
    "collapsed": false
   },
   "source": [
    "**Đo thời gian chạy bằng cách bấm giờ hệ thống**\n",
    "\n",
    "- Một cách để đo thời gian chạy một chương trình hay một lời gọi hệ thống là sử dụng lời gọi **time** khi gõ lệnh thực thi.\n",
    "- Một cách khác để tự đo thời gian chạy là:\n",
    "  - Lấy thời gian bắt đầu start bằng cách tham chiếu thời gian hệ thống ngay khi bắt đầu chương trình.\n",
    "  - Lấy thời gian kết thức end bằng cách tương tự ngay trước khi kết thúc chương trình.\n",
    "  - Hiệu end\\-start là khoảng thời gian chương trình đã chạy.\n",
    "\n"
   ]
  },
  {
   "cell_type": "code",
   "execution_count": 0,
   "id": "85f0e5",
   "metadata": {
    "collapsed": false,
    "scrolled": true
   },
   "outputs": [
   ],
   "source": [
    "./writer"
   ]
  },
  {
   "cell_type": "code",
   "execution_count": 0,
   "id": "aff49f",
   "metadata": {
    "collapsed": false,
    "scrolled": true
   },
   "outputs": [
   ],
   "source": [
    "./writer_fork"
   ]
  },
  {
   "cell_type": "markdown",
   "id": "9eb4d8",
   "metadata": {
    "collapsed": false
   },
   "source": [
    "**Tìm dãy số nguyên tố**\n",
    "\n",
    "- prime là chương trình kiểm tra nhiều số nguyên tố do người dùng nhập vào và quá trình tiếp nhận không cản trở quá trình xử lý\n",
    "- prime\\_pipe là chương trình liệt kê dãy số nguyên tố sử dụng k tiến trình con\n",
    "\n"
   ]
  },
  {
   "cell_type": "code",
   "execution_count": 0,
   "id": "d25a44",
   "metadata": {
    "collapsed": false
   },
   "outputs": [
   ],
   "source": [
    "./prime"
   ]
  },
  {
   "cell_type": "code",
   "execution_count": 0,
   "id": "b9e8c4",
   "metadata": {
    "collapsed": false
   },
   "outputs": [
   ],
   "source": [
    "./prime_pipe"
   ]
  }
 ],
 "metadata": {
  "kernelspec": {
   "argv": [
    "python3",
    "-E",
    "-m",
    "bash_kernel",
    "-f",
    "{connection_file}"
   ],
   "display_name": "Bash (Linux)",
   "env": {
    "PS1": "$"
   },
   "language": "bash",
   "name": "bash",
   "resource_dir": "/ext/jupyter/kernels/bash"
  },
  "language_info": {
   "codemirror_mode": "shell",
   "file_extension": ".sh",
   "mimetype": "text/x-sh",
   "name": "bash"
  }
 },
 "nbformat": 4,
 "nbformat_minor": 4
}